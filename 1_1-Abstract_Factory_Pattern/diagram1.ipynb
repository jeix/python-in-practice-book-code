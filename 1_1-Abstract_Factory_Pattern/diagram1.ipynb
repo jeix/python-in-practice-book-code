{
 "cells": [
  {
   "cell_type": "code",
   "execution_count": 1,
   "metadata": {},
   "outputs": [],
   "source": [
    "import os\n",
    "import sys\n",
    "import tempfile"
   ]
  },
  {
   "cell_type": "code",
   "execution_count": 2,
   "metadata": {},
   "outputs": [],
   "source": [
    "def main():\n",
    "\tif len(sys.argv) > 1 and sys.argv[1] == \"-P\": # For regression testing\n",
    "\t\tcreate_diagram(DiagramFactory()).save(sys.stdout)\n",
    "\t\tcreate_diagram(SvgDiagramFactory()).save(sys.stdout)\n",
    "\t\treturn\n",
    "\n",
    "\ttextFilename = os.path.join(tempfile.gettempdir(), \"diagram.txt\")\n",
    "\tsvgFilename = os.path.join(tempfile.gettempdir(), \"diagram.svg\")\n",
    "\n",
    "\ttxtDiagram = create_diagram(DiagramFactory())\n",
    "\ttxtDiagram.save(textFilename)\n",
    "\tprint(\"wrote\", textFilename)\n",
    "\n",
    "\tsvgDiagram = create_diagram(SvgDiagramFactory())\n",
    "\tsvgDiagram.save(svgFilename)\n",
    "\tprint(\"wrote\", svgFilename)"
   ]
  },
  {
   "cell_type": "code",
   "execution_count": 3,
   "metadata": {},
   "outputs": [],
   "source": [
    "def create_diagram(factory):\n",
    "\tdiagram = factory.make_diagram(30, 7)\n",
    "\trectangle = factory.make_rectangle(4, 1, 22, 5, \"yellow\")\n",
    "\ttext = factory.make_text(7, 3, \"Abstract Factory\")\n",
    "\tdiagram.add(rectangle)\n",
    "\tdiagram.add(text)\n",
    "\treturn diagram"
   ]
  },
  {
   "cell_type": "code",
   "execution_count": 4,
   "metadata": {},
   "outputs": [],
   "source": [
    "class DiagramFactory:\n",
    "\n",
    "\tdef make_diagram(self, width, height):\n",
    "\t\treturn Diagram(width, height)\n",
    "\n",
    "\tdef make_rectangle(self, x, y, width, height, fill=\"white\",\n",
    "\t\t\tstroke=\"black\"):\n",
    "\t\treturn Rectangle(x, y, width, height, fill, stroke)\n",
    "\n",
    "\tdef make_text(self, x, y, text, fontsize=12):\n",
    "\t\treturn Text(x, y, text, fontsize)"
   ]
  },
  {
   "cell_type": "code",
   "execution_count": 5,
   "metadata": {},
   "outputs": [],
   "source": [
    "class SvgDiagramFactory(DiagramFactory):\n",
    "\n",
    "\tdef make_diagram(self, width, height):\n",
    "\t\treturn SvgDiagram(width, height)\n",
    "\n",
    "\tdef make_rectangle(self, x, y, width, height, fill=\"white\",\n",
    "\t\t\tstroke=\"black\"):\n",
    "\t\treturn SvgRectangle(x, y, width, height, fill, stroke)\n",
    "\n",
    "\tdef make_text(self, x, y, text, fontsize=12):\n",
    "\t\treturn SvgText(x, y, text, fontsize)"
   ]
  },
  {
   "cell_type": "code",
   "execution_count": 6,
   "metadata": {},
   "outputs": [],
   "source": [
    "BLANK = \" \"\n",
    "CORNER = \"+\"\n",
    "HORIZONTAL = \"-\"\n",
    "VERTICAL = \"|\""
   ]
  },
  {
   "cell_type": "code",
   "execution_count": 7,
   "metadata": {},
   "outputs": [],
   "source": [
    "class Diagram:\n",
    "\n",
    "\tdef __init__(self, width, height):\n",
    "\t\tself.width = width\n",
    "\t\tself.height = height\n",
    "\t\tself.diagram = _create_rectangle(self.width, self.height, BLANK)\n",
    "\n",
    "\tdef add(self, component):\n",
    "\t\tfor y, row in enumerate(component.rows):\n",
    "\t\t\tfor x, char in enumerate(row):\n",
    "\t\t\t\tself.diagram[y + component.y][x + component.x] = char\n",
    "\n",
    "\tdef save(self, filenameOrFile):\n",
    "\t\tfile = None if isinstance(filenameOrFile, str) else filenameOrFile\n",
    "\t\ttry:\n",
    "\t\t\tif file is None:\n",
    "\t\t\t\tfile = open(filenameOrFile, \"w\", encoding=\"utf-8\")\n",
    "\t\t\tfor row in self.diagram:\n",
    "\t\t\t\tprint(\"\".join(row), file=file)\n",
    "\t\tfinally:\n",
    "\t\t\tif isinstance(filenameOrFile, str) and file is not None:\n",
    "\t\t\t\tfile.close()"
   ]
  },
  {
   "cell_type": "code",
   "execution_count": 8,
   "metadata": {},
   "outputs": [],
   "source": [
    "def _create_rectangle(width, height, fill):\n",
    "\trows = [[fill for _ in range(width)] for _ in range(height)]\n",
    "\tfor x in range(1, width - 1):\n",
    "\t\trows[0][x] = HORIZONTAL\n",
    "\t\trows[height - 1][x] = HORIZONTAL\n",
    "\tfor y in range(1, height - 1):\n",
    "\t\trows[y][0] = VERTICAL\n",
    "\t\trows[y][width - 1] = VERTICAL\n",
    "\tfor y, x in ((0, 0), (0, width - 1), (height - 1, 0),\n",
    "\t\t\t(height - 1, width -1)):\n",
    "\t\trows[y][x] = CORNER\n",
    "\treturn rows"
   ]
  },
  {
   "cell_type": "code",
   "execution_count": 9,
   "metadata": {},
   "outputs": [],
   "source": [
    "class Rectangle:\n",
    "\n",
    "\tdef __init__(self, x, y, width, height, fill, stroke):\n",
    "\t\tself.x = x\n",
    "\t\tself.y = y\n",
    "\t\tself.rows = _create_rectangle(width, height,\n",
    "\t\t\t\tBLANK if fill == \"white\" else \"%\")"
   ]
  },
  {
   "cell_type": "code",
   "execution_count": 10,
   "metadata": {},
   "outputs": [],
   "source": [
    "class Text:\n",
    "\n",
    "\tdef __init__(self, x, y, text, fontsize):\n",
    "\t\tself.x = x\n",
    "\t\tself.y = y\n",
    "\t\tself.rows = [list(text)]"
   ]
  },
  {
   "cell_type": "code",
   "execution_count": 11,
   "metadata": {},
   "outputs": [],
   "source": [
    "SVG_START = \"\"\"<?xml version=\"1.0\" encoding=\"UTF-8\" standalone=\"no\"?>\n",
    "<!DOCTYPE svg PUBLIC \"-//W3C//DTD SVG 20010904//EN\"\n",
    "\t\"http://www.w3.org/TR/2001/REC-SVG-20010904/DTD/svg10.dtd\">\n",
    "<svg xmlns=\"http://www.w3.org/2000/svg\"\n",
    "\txmlns:xlink=\"http://www.w3.org/1999/xlink\" xml:space=\"preserve\"\n",
    "\twidth=\"{pxwidth}px\" height=\"{pxheight}px\">\"\"\""
   ]
  },
  {
   "cell_type": "code",
   "execution_count": 12,
   "metadata": {},
   "outputs": [],
   "source": [
    "SVG_END = \"</svg>\\n\""
   ]
  },
  {
   "cell_type": "code",
   "execution_count": 13,
   "metadata": {},
   "outputs": [],
   "source": [
    "SVG_RECTANGLE = \"\"\"<rect x=\"{x}\" y=\"{y}\" width=\"{width}\" \\\n",
    "height=\"{height}\" fill=\"{fill}\" stroke=\"{stroke}\"/>\"\"\""
   ]
  },
  {
   "cell_type": "code",
   "execution_count": 14,
   "metadata": {},
   "outputs": [],
   "source": [
    "SVG_TEXT = \"\"\"<text x=\"{x}\" y=\"{y}\" text-anchor=\"left\" \\\n",
    "font-family=\"sans-serif\" font-size=\"{fontsize}\">{text}</text>\"\"\""
   ]
  },
  {
   "cell_type": "code",
   "execution_count": 15,
   "metadata": {},
   "outputs": [],
   "source": [
    "SVG_SCALE = 20"
   ]
  },
  {
   "cell_type": "code",
   "execution_count": 16,
   "metadata": {},
   "outputs": [],
   "source": [
    "class SvgDiagram:\n",
    "\n",
    "\tdef __init__(self, width, height):\n",
    "\t\tpxwidth = width * SVG_SCALE\n",
    "\t\tpxheight = height * SVG_SCALE\n",
    "\t\tself.diagram = [SVG_START.format(**locals())]\n",
    "\t\toutline = SvgRectangle(0, 0, width, height, \"lightgreen\", \"black\")\n",
    "\t\tself.diagram.append(outline.svg)\n",
    "\n",
    "\tdef add(self, component):\n",
    "\t\tself.diagram.append(component.svg)\n",
    "\n",
    "\tdef save(self, filenameOrFile):\n",
    "\t\tfile = None if isinstance(filenameOrFile, str) else filenameOrFile\n",
    "\t\ttry:\n",
    "\t\t\tif file is None:\n",
    "\t\t\t\tfile = open(filenameOrFile, \"w\", encoding=\"utf-8\")\n",
    "\t\t\tfile.write(\"\\n\".join(self.diagram))\n",
    "\t\t\tfile.write(\"\\n\" + SVG_END)\n",
    "\t\tfinally:\n",
    "\t\t\tif isinstance(filenameOrFile, str) and file is not None:\n",
    "\t\t\t\tfile.close()"
   ]
  },
  {
   "cell_type": "code",
   "execution_count": 17,
   "metadata": {},
   "outputs": [],
   "source": [
    "class SvgRectangle:\n",
    "\n",
    "\tdef __init__(self, x, y, width, height, fill, stroke):\n",
    "\t\tx *= SVG_SCALE\n",
    "\t\ty *= SVG_SCALE\n",
    "\t\twidth *= SVG_SCALE\n",
    "\t\theight *= SVG_SCALE\n",
    "\t\tself.svg = SVG_RECTANGLE.format(**locals())"
   ]
  },
  {
   "cell_type": "code",
   "execution_count": 18,
   "metadata": {},
   "outputs": [],
   "source": [
    "class SvgText:\n",
    "\n",
    "\tdef __init__(self, x, y, text, fontsize):\n",
    "\t\tx *= SVG_SCALE\n",
    "\t\ty *= SVG_SCALE\n",
    "\t\tfontsize *= SVG_SCALE // 10\n",
    "\t\tself.svg = SVG_TEXT.format(**locals())"
   ]
  },
  {
   "cell_type": "code",
   "execution_count": 19,
   "metadata": {},
   "outputs": [
    {
     "name": "stdout",
     "output_type": "stream",
     "text": [
      "wrote /tmp/diagram.txt\n",
      "wrote /tmp/diagram.svg\n"
     ]
    }
   ],
   "source": [
    "if __name__ == \"__main__\":\n",
    "\tmain()"
   ]
  },
  {
   "cell_type": "code",
   "execution_count": null,
   "metadata": {},
   "outputs": [],
   "source": []
  }
 ],
 "metadata": {
  "kernelspec": {
   "display_name": "Python 3",
   "language": "python",
   "name": "python3"
  },
  "language_info": {
   "codemirror_mode": {
    "name": "ipython",
    "version": 3
   },
   "file_extension": ".py",
   "mimetype": "text/x-python",
   "name": "python",
   "nbconvert_exporter": "python",
   "pygments_lexer": "ipython3",
   "version": "3.6.7"
  }
 },
 "nbformat": 4,
 "nbformat_minor": 2
}
